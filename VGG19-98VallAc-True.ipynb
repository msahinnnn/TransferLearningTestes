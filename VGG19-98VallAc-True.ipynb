{
  "cells": [
    {
      "cell_type": "code",
      "execution_count": 1,
      "metadata": {
        "colab": {
          "base_uri": "https://localhost:8080/"
        },
        "id": "pHB7Qf16LBNJ",
        "outputId": "9da4f0ee-a6dc-4bbf-ba89-90dc8a2eae0e"
      },
      "outputs": [
        {
          "output_type": "stream",
          "name": "stdout",
          "text": [
            "Mounted at /content/gdrive\n"
          ]
        }
      ],
      "source": [
        "from google.colab import drive\n",
        "drive.mount('/content/gdrive')"
      ]
    },
    {
      "cell_type": "code",
      "execution_count": 2,
      "metadata": {
        "colab": {
          "base_uri": "https://localhost:8080/"
        },
        "id": "pb5GxaT5LFPg",
        "outputId": "ef8f0c61-adf0-40fd-df22-19dac16a5cdc"
      },
      "outputs": [
        {
          "output_type": "stream",
          "name": "stdout",
          "text": [
            "/content/gdrive/My Drive/Colab Notebooks/DerinOgrenme\n",
            "deneme.jpg      MobileNet61.h5  \u001b[0m\u001b[01;34mtest\u001b[0m/       VGG19_2.h5  VGG19_5.h5\n",
            "kekik.jpg       MobileNet65.h5  VGG16_1.h5  VGG19_3.h5\n",
            "MobileNet38.h5  MobileNet73.h5  VGG19_1.h5  VGG19_4.h5\n"
          ]
        }
      ],
      "source": [
        "%cd gdrive/My Drive/Colab Notebooks/DerinOgrenme/\n",
        "%ls"
      ]
    },
    {
      "cell_type": "code",
      "execution_count": 3,
      "metadata": {
        "id": "_BpY_Xx3LK6z"
      },
      "outputs": [],
      "source": [
        "from tensorflow.keras.applications.vgg19  import VGG19\n",
        "from tensorflow.keras.layers import Input\n",
        "from tensorflow.keras.models import Model\n",
        "from keras.preprocessing.image import ImageDataGenerator\n",
        "from keras.models import Sequential, Model\n",
        "from keras.layers import Conv2D, MaxPooling2D\n",
        "from keras.layers import Activation, Dropout, Flatten, Dense, BatchNormalization\n",
        "from keras import backend as K\n",
        "from PIL import Image\n",
        "\n",
        "\n",
        "img_width, img_height = 224, 224\n",
        "\n",
        "imageChannels = 3\n",
        "batchSize = 100\n",
        "epoch = 20\n",
        "classMode = 'categorical'\n",
        "fcDense = 3\n",
        "fcActivation = 'softmax' #son katman\n",
        "optimizer = 'adam'\n",
        "loss = 'binary_crossentropy'\n",
        "metrics = 'accuracy'\n",
        "train_ornek_sayisi = 3000\n",
        "validation_ornek_sayisi = 900 \n",
        "\n",
        "\n",
        "train_data_yolu = 'test/train'\n",
        "validation_data_yolu = 'test/validation'\n",
        "\n",
        "\n",
        "if K.image_data_format() == 'channels_first':\n",
        "    input_shape = (3, img_width, img_height)\n",
        "else:\n",
        "    input_shape = (img_width, img_height, 3)\n",
        "\n"
      ]
    },
    {
      "cell_type": "code",
      "execution_count": 4,
      "metadata": {
        "colab": {
          "base_uri": "https://localhost:8080/"
        },
        "id": "Vf25ZHVNLLMP",
        "outputId": "4b422ccb-42bd-4719-8690-a4c2ffb03346"
      },
      "outputs": [
        {
          "output_type": "stream",
          "name": "stdout",
          "text": [
            "Downloading data from https://storage.googleapis.com/tensorflow/keras-applications/vgg19/vgg19_weights_tf_dim_ordering_tf_kernels_notop.h5\n",
            "80142336/80134624 [==============================] - 1s 0us/step\n",
            "80150528/80134624 [==============================] - 1s 0us/step\n",
            "Model: \"model\"\n",
            "_________________________________________________________________\n",
            " Layer (type)                Output Shape              Param #   \n",
            "=================================================================\n",
            " input_1 (InputLayer)        [(None, 224, 224, 3)]     0         \n",
            "                                                                 \n",
            " block1_conv1 (Conv2D)       (None, 224, 224, 64)      1792      \n",
            "                                                                 \n",
            " block1_conv2 (Conv2D)       (None, 224, 224, 64)      36928     \n",
            "                                                                 \n",
            " block1_pool (MaxPooling2D)  (None, 112, 112, 64)      0         \n",
            "                                                                 \n",
            " block2_conv1 (Conv2D)       (None, 112, 112, 128)     73856     \n",
            "                                                                 \n",
            " block2_conv2 (Conv2D)       (None, 112, 112, 128)     147584    \n",
            "                                                                 \n",
            " block2_pool (MaxPooling2D)  (None, 56, 56, 128)       0         \n",
            "                                                                 \n",
            " block3_conv1 (Conv2D)       (None, 56, 56, 256)       295168    \n",
            "                                                                 \n",
            " block3_conv2 (Conv2D)       (None, 56, 56, 256)       590080    \n",
            "                                                                 \n",
            " block3_conv3 (Conv2D)       (None, 56, 56, 256)       590080    \n",
            "                                                                 \n",
            " block3_conv4 (Conv2D)       (None, 56, 56, 256)       590080    \n",
            "                                                                 \n",
            " block3_pool (MaxPooling2D)  (None, 28, 28, 256)       0         \n",
            "                                                                 \n",
            " block4_conv1 (Conv2D)       (None, 28, 28, 512)       1180160   \n",
            "                                                                 \n",
            " block4_conv2 (Conv2D)       (None, 28, 28, 512)       2359808   \n",
            "                                                                 \n",
            " block4_conv3 (Conv2D)       (None, 28, 28, 512)       2359808   \n",
            "                                                                 \n",
            " block4_conv4 (Conv2D)       (None, 28, 28, 512)       2359808   \n",
            "                                                                 \n",
            " block4_pool (MaxPooling2D)  (None, 14, 14, 512)       0         \n",
            "                                                                 \n",
            " block5_conv1 (Conv2D)       (None, 14, 14, 512)       2359808   \n",
            "                                                                 \n",
            " block5_conv2 (Conv2D)       (None, 14, 14, 512)       2359808   \n",
            "                                                                 \n",
            " block5_conv3 (Conv2D)       (None, 14, 14, 512)       2359808   \n",
            "                                                                 \n",
            " block5_conv4 (Conv2D)       (None, 14, 14, 512)       2359808   \n",
            "                                                                 \n",
            " block5_pool (MaxPooling2D)  (None, 7, 7, 512)         0         \n",
            "                                                                 \n",
            " flatten (Flatten)           (None, 25088)             0         \n",
            "                                                                 \n",
            " fc1 (Dense)                 (None, 128)               3211392   \n",
            "                                                                 \n",
            " fc2 (Dense)                 (None, 256)               33024     \n",
            "                                                                 \n",
            " fc3 (Dense)                 (None, 256)               65792     \n",
            "                                                                 \n",
            " fc4 (Dense)                 (None, 512)               131584    \n",
            "                                                                 \n",
            " fc5 (Dense)                 (None, 512)               262656    \n",
            "                                                                 \n",
            " fc6 (Dense)                 (None, 512)               262656    \n",
            "                                                                 \n",
            " predictions (Dense)         (None, 3)                 1539      \n",
            "                                                                 \n",
            "=================================================================\n",
            "Total params: 23,993,027\n",
            "Trainable params: 23,993,027\n",
            "Non-trainable params: 0\n",
            "_________________________________________________________________\n"
          ]
        }
      ],
      "source": [
        "input = Input(input_shape)\n",
        "\n",
        "model = VGG19(\n",
        "    include_top = False,\n",
        "    weights = 'imagenet',\n",
        "    input_tensor = input,\n",
        "    classes = 3\n",
        ")\n",
        "\n",
        "flat1 = Flatten()(model.layers[-1].output)\n",
        "class1 = Dense(128, activation='relu', name='fc1')(flat1)\n",
        "class2 = Dense(256, activation='relu', name='fc2')(class1)\n",
        "class3= Dense(256, activation='relu', name='fc3')(class2)\n",
        "class4 = Dense(512, activation='relu', name='fc4')(class3)\n",
        "class5 = Dense(512, activation='relu', name='fc5')(class4)\n",
        "class6= Dense(512, activation='relu', name='fc6')(class5)\n",
        "output = Dense(fcDense, activation='softmax', name='predictions')(class6)\n",
        "\n",
        "model = Model(inputs=model.inputs, outputs=output)\n",
        "\n",
        "model.summary()"
      ]
    },
    {
      "cell_type": "code",
      "execution_count": 5,
      "metadata": {
        "id": "zjMcGsrGPAmY"
      },
      "outputs": [],
      "source": [
        "from tensorflow.keras.callbacks import EarlyStopping\n",
        "\n",
        "model.compile(\n",
        "    optimizer='adam',\n",
        "    loss='categorical_crossentropy',\n",
        "    metrics=['accuracy'],\n",
        ")"
      ]
    },
    {
      "cell_type": "code",
      "execution_count": 6,
      "metadata": {
        "colab": {
          "base_uri": "https://localhost:8080/"
        },
        "id": "4-qvzu05QJdc",
        "outputId": "4eb9bd94-9d80-4046-90e2-b313f6a5113f"
      },
      "outputs": [
        {
          "output_type": "stream",
          "name": "stdout",
          "text": [
            "Found 2400 images belonging to 3 classes.\n",
            "Found 600 images belonging to 3 classes.\n",
            "Found 900 images belonging to 3 classes.\n"
          ]
        }
      ],
      "source": [
        "from tensorflow.keras.applications.vgg19 import preprocess_input\n",
        "\n",
        "\n",
        "train_datagen=ImageDataGenerator(preprocessing_function=preprocess_input, validation_split=0.2, horizontal_flip=True, zoom_range=0.2, rescale=1./255, rotation_range=45, width_shift_range=0.2,\n",
        "                                 height_shift_range=0.2, shear_range=0.2, fill_mode='nearest')\n",
        "test_datagen=ImageDataGenerator(preprocessing_function=preprocess_input)\n",
        "\n",
        "train_generator = train_datagen.flow_from_directory(\n",
        "    train_data_yolu,\n",
        "    target_size=(img_width, img_height),\n",
        "    batch_size=batchSize,\n",
        "    subset=\"training\",\n",
        "    class_mode=classMode\n",
        ")\n",
        "validation_generator = train_datagen.flow_from_directory(\n",
        "    train_data_yolu,\n",
        "    target_size=(img_width, img_height),\n",
        "    batch_size=batchSize,\n",
        "    subset=\"validation\",\n",
        "    class_mode=classMode\n",
        ")\n",
        "test_generator = test_datagen.flow_from_directory(\n",
        "    validation_data_yolu,\n",
        "    target_size=(img_width, img_height),\n",
        "    batch_size=batchSize,\n",
        "    class_mode=classMode\n",
        ")"
      ]
    },
    {
      "cell_type": "code",
      "execution_count": 7,
      "metadata": {
        "colab": {
          "base_uri": "https://localhost:8080/"
        },
        "id": "DOWwER8BUN9L",
        "outputId": "7d35e233-28d1-413d-da22-8047db460ee4"
      },
      "outputs": [
        {
          "output_type": "stream",
          "name": "stdout",
          "text": [
            "Epoch 1/20\n",
            "24/24 [==============================] - 779s 31s/step - loss: 1.3860 - accuracy: 0.3413 - val_loss: 1.0853 - val_accuracy: 0.3350\n",
            "Epoch 2/20\n",
            "24/24 [==============================] - 60s 2s/step - loss: 1.1013 - accuracy: 0.3729 - val_loss: 1.0929 - val_accuracy: 0.3333\n",
            "Epoch 3/20\n",
            "24/24 [==============================] - 61s 3s/step - loss: 1.0970 - accuracy: 0.3567 - val_loss: 1.0999 - val_accuracy: 0.3333\n",
            "Epoch 4/20\n",
            "24/24 [==============================] - 68s 3s/step - loss: 1.1024 - accuracy: 0.3187 - val_loss: 1.1012 - val_accuracy: 0.3333\n",
            "Epoch 5/20\n",
            "24/24 [==============================] - 61s 2s/step - loss: 1.0989 - accuracy: 0.3175 - val_loss: 1.0814 - val_accuracy: 0.3333\n",
            "Epoch 6/20\n",
            "24/24 [==============================] - 60s 2s/step - loss: 1.0816 - accuracy: 0.3388 - val_loss: 1.4051 - val_accuracy: 0.3333\n",
            "Epoch 7/20\n",
            "24/24 [==============================] - 60s 2s/step - loss: 1.1060 - accuracy: 0.3417 - val_loss: 1.0968 - val_accuracy: 0.3333\n",
            "Epoch 8/20\n",
            "24/24 [==============================] - 64s 3s/step - loss: 1.0950 - accuracy: 0.3837 - val_loss: 1.0781 - val_accuracy: 0.3333\n",
            "Epoch 9/20\n",
            "24/24 [==============================] - 60s 2s/step - loss: 1.0530 - accuracy: 0.4263 - val_loss: 0.8184 - val_accuracy: 0.5433\n",
            "Epoch 10/20\n",
            "24/24 [==============================] - 60s 2s/step - loss: 1.1248 - accuracy: 0.4408 - val_loss: 1.4131 - val_accuracy: 0.3333\n",
            "Epoch 11/20\n",
            "24/24 [==============================] - 60s 2s/step - loss: 1.0801 - accuracy: 0.4192 - val_loss: 0.9324 - val_accuracy: 0.5850\n",
            "Epoch 12/20\n",
            "24/24 [==============================] - 59s 2s/step - loss: 0.8389 - accuracy: 0.6496 - val_loss: 0.8651 - val_accuracy: 0.5550\n",
            "Epoch 13/20\n",
            "24/24 [==============================] - 59s 2s/step - loss: 0.7043 - accuracy: 0.6375 - val_loss: 0.5062 - val_accuracy: 0.7467\n",
            "Epoch 14/20\n",
            "24/24 [==============================] - 59s 2s/step - loss: 0.5653 - accuracy: 0.7150 - val_loss: 0.4752 - val_accuracy: 0.7717\n",
            "Epoch 15/20\n",
            "24/24 [==============================] - 60s 2s/step - loss: 0.5674 - accuracy: 0.7375 - val_loss: 0.4602 - val_accuracy: 0.7883\n",
            "Epoch 16/20\n",
            "24/24 [==============================] - 60s 2s/step - loss: 0.7524 - accuracy: 0.6433 - val_loss: 0.5636 - val_accuracy: 0.7267\n",
            "Epoch 17/20\n",
            "24/24 [==============================] - 60s 2s/step - loss: 0.5420 - accuracy: 0.7067 - val_loss: 0.4576 - val_accuracy: 0.8633\n",
            "Epoch 18/20\n",
            "24/24 [==============================] - 60s 2s/step - loss: 0.4755 - accuracy: 0.7837 - val_loss: 0.3099 - val_accuracy: 0.8950\n",
            "Epoch 19/20\n",
            "24/24 [==============================] - 60s 2s/step - loss: 0.3827 - accuracy: 0.8471 - val_loss: 0.2539 - val_accuracy: 0.9333\n",
            "Epoch 20/20\n",
            "24/24 [==============================] - 60s 2s/step - loss: 0.2869 - accuracy: 0.8958 - val_loss: 0.1308 - val_accuracy: 0.9817\n"
          ]
        },
        {
          "output_type": "execute_result",
          "data": {
            "text/plain": [
              "<keras.callbacks.History at 0x7fbd01bf8cd0>"
            ]
          },
          "metadata": {},
          "execution_count": 7
        }
      ],
      "source": [
        "model.fit(\n",
        "    train_generator,\n",
        "    validation_data=validation_generator,\n",
        "    validation_steps=600//batchSize,\n",
        "    steps_per_epoch=2400//batchSize,\n",
        "    batch_size=480,\n",
        "    epochs=epoch,\n",
        "    verbose=1\n",
        ")"
      ]
    },
    {
      "cell_type": "code",
      "source": [
        "from keras.preprocessing.image import load_img\n",
        "from keras.preprocessing.image import img_to_array\n",
        "\n",
        "img = load_img('kekik.jpg', grayscale=False, color_mode='rgb', target_size=(img_width, img_height))\n",
        "image = img_to_array(img)\n",
        "image = image.reshape((1, image.shape[0], image.shape[1], image.shape[2]))\n",
        "image = preprocess_input(image)\n",
        "\n",
        "yhat = model.predict(image)\n",
        "print(yhat)"
      ],
      "metadata": {
        "colab": {
          "base_uri": "https://localhost:8080/"
        },
        "id": "MtcF8lpgj-h7",
        "outputId": "36b692ce-f31e-4e24-edc1-7ed9ad2c99bd"
      },
      "execution_count": 8,
      "outputs": [
        {
          "output_type": "stream",
          "name": "stdout",
          "text": [
            "[[0. 0. 1.]]\n"
          ]
        }
      ]
    },
    {
      "cell_type": "code",
      "execution_count": 10,
      "metadata": {
        "id": "oeojYyKgY57Y"
      },
      "outputs": [],
      "source": [
        "model.save(\"VGG19_98.h5\")\n"
      ]
    }
  ],
  "metadata": {
    "accelerator": "GPU",
    "colab": {
      "collapsed_sections": [],
      "name": "OnIslemeliModel.ipynb",
      "provenance": []
    },
    "kernelspec": {
      "display_name": "Python 3",
      "name": "python3"
    },
    "language_info": {
      "name": "python"
    }
  },
  "nbformat": 4,
  "nbformat_minor": 0
}