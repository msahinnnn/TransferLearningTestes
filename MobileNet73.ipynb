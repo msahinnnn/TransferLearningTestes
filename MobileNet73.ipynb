{
  "nbformat": 4,
  "nbformat_minor": 0,
  "metadata": {
    "colab": {
      "name": "MobileNet.ipynb",
      "provenance": [],
      "collapsed_sections": []
    },
    "kernelspec": {
      "name": "python3",
      "display_name": "Python 3"
    },
    "language_info": {
      "name": "python"
    },
    "accelerator": "GPU"
  },
  "cells": [
    {
      "cell_type": "code",
      "execution_count": 37,
      "metadata": {
        "colab": {
          "base_uri": "https://localhost:8080/"
        },
        "id": "RJtzgZ0dJ80f",
        "outputId": "f56106f3-1422-4b62-bbc6-f272660101ca"
      },
      "outputs": [
        {
          "output_type": "stream",
          "name": "stdout",
          "text": [
            "Drive already mounted at /content/gdrive; to attempt to forcibly remount, call drive.mount(\"/content/gdrive\", force_remount=True).\n"
          ]
        }
      ],
      "source": [
        "from google.colab import drive\n",
        "drive.mount('/content/gdrive')"
      ]
    },
    {
      "cell_type": "code",
      "source": [
        "%cd gdrive/My Drive/Colab Notebooks/DerinOgrenme/\n",
        "%ls"
      ],
      "metadata": {
        "colab": {
          "base_uri": "https://localhost:8080/"
        },
        "id": "q6WFcZo0KGcu",
        "outputId": "a4b4ecc1-4f98-4944-96f7-275db7f91253"
      },
      "execution_count": 38,
      "outputs": [
        {
          "output_type": "stream",
          "name": "stdout",
          "text": [
            "[Errno 2] No such file or directory: 'gdrive/My Drive/Colab Notebooks/DerinOgrenme/'\n",
            "/content/gdrive/My Drive/Colab Notebooks/DerinOgrenme\n",
            "deneme.jpg  MobileNet61.h5  VGG16_1.h5  VGG19_2.h5  VGG19_4.h5\n",
            "kekik.jpg   \u001b[0m\u001b[01;34mtest\u001b[0m/           VGG19_1.h5  VGG19_3.h5  VGG19_5.h5\n"
          ]
        }
      ]
    },
    {
      "cell_type": "code",
      "source": [
        "\n",
        "from tensorflow.keras.layers import Input\n",
        "from tensorflow.keras.models import Model\n",
        "from keras.preprocessing.image import ImageDataGenerator\n",
        "from keras.models import Sequential, Model\n",
        "from keras.layers import Conv2D, MaxPooling2D\n",
        "from keras.layers import Activation, Dropout, Flatten, Dense, BatchNormalization\n",
        "from keras import backend as K\n",
        "from PIL import Image\n",
        "import numpy as np \n",
        "import pandas as pd \n",
        "import keras\n",
        "import matplotlib.pyplot as plt\n",
        "from keras.layers import Dense,GlobalAveragePooling2D\n",
        "from keras.preprocessing import image\n",
        "from keras.applications.mobilenet import preprocess_input\n",
        "from keras.preprocessing.image import ImageDataGenerator\n",
        "from tensorflow.keras.applications import MobileNet\n",
        "\n",
        "\n",
        "\n",
        "\n",
        "img_width, img_height = 224, 224\n",
        "\n",
        "imageChannels = 3\n",
        "batchSize = 100\n",
        "epoch = 20\n",
        "classMode = 'categorical'\n",
        "fcDense = 3\n",
        "fcActivation = 'softmax' #son katman\n",
        "optimizer = 'adam'\n",
        "loss = 'binary_crossentropy'\n",
        "metrics = 'accuracy'\n",
        "train_ornek_sayisi = 3000\n",
        "validation_ornek_sayisi = 900 \n",
        "\n",
        "\n",
        "train_data_yolu = 'test/train'\n",
        "validation_data_yolu = 'test/validation'\n",
        "\n",
        "\n",
        "if K.image_data_format() == 'channels_first':\n",
        "    input_shape = (3, img_width, img_height)\n",
        "else:\n",
        "    input_shape = (img_width, img_height, 3)"
      ],
      "metadata": {
        "id": "TWk-L9klKICI"
      },
      "execution_count": 41,
      "outputs": []
    },
    {
      "cell_type": "code",
      "source": [
        "input = Input(input_shape)\n",
        "\n",
        "model = MobileNet( weights='imagenet',\n",
        "                  include_top=False,\n",
        "                  input_shape=input_shape,\n",
        "                  input_tensor=input\n",
        "                  )"
      ],
      "metadata": {
        "id": "kfj8rT_MKeo4"
      },
      "execution_count": 42,
      "outputs": []
    },
    {
      "cell_type": "code",
      "source": [
        "flat1 = Flatten()(model.layers[-1].output)\n",
        "\n",
        "class1=Dense(128,activation='relu')(flat1)\n",
        "class2=Dense(256,activation='relu')(class1) \n",
        "class3=Dense(256,activation='relu')(class2) \n",
        "\n",
        "output=Dense(3,activation='softmax', name='predictions')(class3) "
      ],
      "metadata": {
        "id": "UOdP1dWNL7gw"
      },
      "execution_count": 44,
      "outputs": []
    },
    {
      "cell_type": "code",
      "source": [
        "model=Model(inputs=model.inputs,outputs=output)\n",
        "\n",
        "model.compile(\n",
        "    optimizer='adam',\n",
        "    loss='categorical_crossentropy',\n",
        "    metrics=['accuracy'])\n",
        "\n",
        "\n",
        "model.summary()"
      ],
      "metadata": {
        "colab": {
          "base_uri": "https://localhost:8080/"
        },
        "id": "hVT2ekudMI6e",
        "outputId": "1cb5958c-236f-4653-c85d-fb7b4c3cc5d0"
      },
      "execution_count": 45,
      "outputs": [
        {
          "output_type": "stream",
          "name": "stdout",
          "text": [
            "Model: \"model_3\"\n",
            "_________________________________________________________________\n",
            " Layer (type)                Output Shape              Param #   \n",
            "=================================================================\n",
            " input_5 (InputLayer)        [(None, 224, 224, 3)]     0         \n",
            "                                                                 \n",
            " conv1 (Conv2D)              (None, 112, 112, 32)      864       \n",
            "                                                                 \n",
            " conv1_bn (BatchNormalizatio  (None, 112, 112, 32)     128       \n",
            " n)                                                              \n",
            "                                                                 \n",
            " conv1_relu (ReLU)           (None, 112, 112, 32)      0         \n",
            "                                                                 \n",
            " conv_dw_1 (DepthwiseConv2D)  (None, 112, 112, 32)     288       \n",
            "                                                                 \n",
            " conv_dw_1_bn (BatchNormaliz  (None, 112, 112, 32)     128       \n",
            " ation)                                                          \n",
            "                                                                 \n",
            " conv_dw_1_relu (ReLU)       (None, 112, 112, 32)      0         \n",
            "                                                                 \n",
            " conv_pw_1 (Conv2D)          (None, 112, 112, 64)      2048      \n",
            "                                                                 \n",
            " conv_pw_1_bn (BatchNormaliz  (None, 112, 112, 64)     256       \n",
            " ation)                                                          \n",
            "                                                                 \n",
            " conv_pw_1_relu (ReLU)       (None, 112, 112, 64)      0         \n",
            "                                                                 \n",
            " conv_pad_2 (ZeroPadding2D)  (None, 113, 113, 64)      0         \n",
            "                                                                 \n",
            " conv_dw_2 (DepthwiseConv2D)  (None, 56, 56, 64)       576       \n",
            "                                                                 \n",
            " conv_dw_2_bn (BatchNormaliz  (None, 56, 56, 64)       256       \n",
            " ation)                                                          \n",
            "                                                                 \n",
            " conv_dw_2_relu (ReLU)       (None, 56, 56, 64)        0         \n",
            "                                                                 \n",
            " conv_pw_2 (Conv2D)          (None, 56, 56, 128)       8192      \n",
            "                                                                 \n",
            " conv_pw_2_bn (BatchNormaliz  (None, 56, 56, 128)      512       \n",
            " ation)                                                          \n",
            "                                                                 \n",
            " conv_pw_2_relu (ReLU)       (None, 56, 56, 128)       0         \n",
            "                                                                 \n",
            " conv_dw_3 (DepthwiseConv2D)  (None, 56, 56, 128)      1152      \n",
            "                                                                 \n",
            " conv_dw_3_bn (BatchNormaliz  (None, 56, 56, 128)      512       \n",
            " ation)                                                          \n",
            "                                                                 \n",
            " conv_dw_3_relu (ReLU)       (None, 56, 56, 128)       0         \n",
            "                                                                 \n",
            " conv_pw_3 (Conv2D)          (None, 56, 56, 128)       16384     \n",
            "                                                                 \n",
            " conv_pw_3_bn (BatchNormaliz  (None, 56, 56, 128)      512       \n",
            " ation)                                                          \n",
            "                                                                 \n",
            " conv_pw_3_relu (ReLU)       (None, 56, 56, 128)       0         \n",
            "                                                                 \n",
            " conv_pad_4 (ZeroPadding2D)  (None, 57, 57, 128)       0         \n",
            "                                                                 \n",
            " conv_dw_4 (DepthwiseConv2D)  (None, 28, 28, 128)      1152      \n",
            "                                                                 \n",
            " conv_dw_4_bn (BatchNormaliz  (None, 28, 28, 128)      512       \n",
            " ation)                                                          \n",
            "                                                                 \n",
            " conv_dw_4_relu (ReLU)       (None, 28, 28, 128)       0         \n",
            "                                                                 \n",
            " conv_pw_4 (Conv2D)          (None, 28, 28, 256)       32768     \n",
            "                                                                 \n",
            " conv_pw_4_bn (BatchNormaliz  (None, 28, 28, 256)      1024      \n",
            " ation)                                                          \n",
            "                                                                 \n",
            " conv_pw_4_relu (ReLU)       (None, 28, 28, 256)       0         \n",
            "                                                                 \n",
            " conv_dw_5 (DepthwiseConv2D)  (None, 28, 28, 256)      2304      \n",
            "                                                                 \n",
            " conv_dw_5_bn (BatchNormaliz  (None, 28, 28, 256)      1024      \n",
            " ation)                                                          \n",
            "                                                                 \n",
            " conv_dw_5_relu (ReLU)       (None, 28, 28, 256)       0         \n",
            "                                                                 \n",
            " conv_pw_5 (Conv2D)          (None, 28, 28, 256)       65536     \n",
            "                                                                 \n",
            " conv_pw_5_bn (BatchNormaliz  (None, 28, 28, 256)      1024      \n",
            " ation)                                                          \n",
            "                                                                 \n",
            " conv_pw_5_relu (ReLU)       (None, 28, 28, 256)       0         \n",
            "                                                                 \n",
            " conv_pad_6 (ZeroPadding2D)  (None, 29, 29, 256)       0         \n",
            "                                                                 \n",
            " conv_dw_6 (DepthwiseConv2D)  (None, 14, 14, 256)      2304      \n",
            "                                                                 \n",
            " conv_dw_6_bn (BatchNormaliz  (None, 14, 14, 256)      1024      \n",
            " ation)                                                          \n",
            "                                                                 \n",
            " conv_dw_6_relu (ReLU)       (None, 14, 14, 256)       0         \n",
            "                                                                 \n",
            " conv_pw_6 (Conv2D)          (None, 14, 14, 512)       131072    \n",
            "                                                                 \n",
            " conv_pw_6_bn (BatchNormaliz  (None, 14, 14, 512)      2048      \n",
            " ation)                                                          \n",
            "                                                                 \n",
            " conv_pw_6_relu (ReLU)       (None, 14, 14, 512)       0         \n",
            "                                                                 \n",
            " conv_dw_7 (DepthwiseConv2D)  (None, 14, 14, 512)      4608      \n",
            "                                                                 \n",
            " conv_dw_7_bn (BatchNormaliz  (None, 14, 14, 512)      2048      \n",
            " ation)                                                          \n",
            "                                                                 \n",
            " conv_dw_7_relu (ReLU)       (None, 14, 14, 512)       0         \n",
            "                                                                 \n",
            " conv_pw_7 (Conv2D)          (None, 14, 14, 512)       262144    \n",
            "                                                                 \n",
            " conv_pw_7_bn (BatchNormaliz  (None, 14, 14, 512)      2048      \n",
            " ation)                                                          \n",
            "                                                                 \n",
            " conv_pw_7_relu (ReLU)       (None, 14, 14, 512)       0         \n",
            "                                                                 \n",
            " conv_dw_8 (DepthwiseConv2D)  (None, 14, 14, 512)      4608      \n",
            "                                                                 \n",
            " conv_dw_8_bn (BatchNormaliz  (None, 14, 14, 512)      2048      \n",
            " ation)                                                          \n",
            "                                                                 \n",
            " conv_dw_8_relu (ReLU)       (None, 14, 14, 512)       0         \n",
            "                                                                 \n",
            " conv_pw_8 (Conv2D)          (None, 14, 14, 512)       262144    \n",
            "                                                                 \n",
            " conv_pw_8_bn (BatchNormaliz  (None, 14, 14, 512)      2048      \n",
            " ation)                                                          \n",
            "                                                                 \n",
            " conv_pw_8_relu (ReLU)       (None, 14, 14, 512)       0         \n",
            "                                                                 \n",
            " conv_dw_9 (DepthwiseConv2D)  (None, 14, 14, 512)      4608      \n",
            "                                                                 \n",
            " conv_dw_9_bn (BatchNormaliz  (None, 14, 14, 512)      2048      \n",
            " ation)                                                          \n",
            "                                                                 \n",
            " conv_dw_9_relu (ReLU)       (None, 14, 14, 512)       0         \n",
            "                                                                 \n",
            " conv_pw_9 (Conv2D)          (None, 14, 14, 512)       262144    \n",
            "                                                                 \n",
            " conv_pw_9_bn (BatchNormaliz  (None, 14, 14, 512)      2048      \n",
            " ation)                                                          \n",
            "                                                                 \n",
            " conv_pw_9_relu (ReLU)       (None, 14, 14, 512)       0         \n",
            "                                                                 \n",
            " conv_dw_10 (DepthwiseConv2D  (None, 14, 14, 512)      4608      \n",
            " )                                                               \n",
            "                                                                 \n",
            " conv_dw_10_bn (BatchNormali  (None, 14, 14, 512)      2048      \n",
            " zation)                                                         \n",
            "                                                                 \n",
            " conv_dw_10_relu (ReLU)      (None, 14, 14, 512)       0         \n",
            "                                                                 \n",
            " conv_pw_10 (Conv2D)         (None, 14, 14, 512)       262144    \n",
            "                                                                 \n",
            " conv_pw_10_bn (BatchNormali  (None, 14, 14, 512)      2048      \n",
            " zation)                                                         \n",
            "                                                                 \n",
            " conv_pw_10_relu (ReLU)      (None, 14, 14, 512)       0         \n",
            "                                                                 \n",
            " conv_dw_11 (DepthwiseConv2D  (None, 14, 14, 512)      4608      \n",
            " )                                                               \n",
            "                                                                 \n",
            " conv_dw_11_bn (BatchNormali  (None, 14, 14, 512)      2048      \n",
            " zation)                                                         \n",
            "                                                                 \n",
            " conv_dw_11_relu (ReLU)      (None, 14, 14, 512)       0         \n",
            "                                                                 \n",
            " conv_pw_11 (Conv2D)         (None, 14, 14, 512)       262144    \n",
            "                                                                 \n",
            " conv_pw_11_bn (BatchNormali  (None, 14, 14, 512)      2048      \n",
            " zation)                                                         \n",
            "                                                                 \n",
            " conv_pw_11_relu (ReLU)      (None, 14, 14, 512)       0         \n",
            "                                                                 \n",
            " conv_pad_12 (ZeroPadding2D)  (None, 15, 15, 512)      0         \n",
            "                                                                 \n",
            " conv_dw_12 (DepthwiseConv2D  (None, 7, 7, 512)        4608      \n",
            " )                                                               \n",
            "                                                                 \n",
            " conv_dw_12_bn (BatchNormali  (None, 7, 7, 512)        2048      \n",
            " zation)                                                         \n",
            "                                                                 \n",
            " conv_dw_12_relu (ReLU)      (None, 7, 7, 512)         0         \n",
            "                                                                 \n",
            " conv_pw_12 (Conv2D)         (None, 7, 7, 1024)        524288    \n",
            "                                                                 \n",
            " conv_pw_12_bn (BatchNormali  (None, 7, 7, 1024)       4096      \n",
            " zation)                                                         \n",
            "                                                                 \n",
            " conv_pw_12_relu (ReLU)      (None, 7, 7, 1024)        0         \n",
            "                                                                 \n",
            " conv_dw_13 (DepthwiseConv2D  (None, 7, 7, 1024)       9216      \n",
            " )                                                               \n",
            "                                                                 \n",
            " conv_dw_13_bn (BatchNormali  (None, 7, 7, 1024)       4096      \n",
            " zation)                                                         \n",
            "                                                                 \n",
            " conv_dw_13_relu (ReLU)      (None, 7, 7, 1024)        0         \n",
            "                                                                 \n",
            " conv_pw_13 (Conv2D)         (None, 7, 7, 1024)        1048576   \n",
            "                                                                 \n",
            " conv_pw_13_bn (BatchNormali  (None, 7, 7, 1024)       4096      \n",
            " zation)                                                         \n",
            "                                                                 \n",
            " conv_pw_13_relu (ReLU)      (None, 7, 7, 1024)        0         \n",
            "                                                                 \n",
            " flatten_8 (Flatten)         (None, 50176)             0         \n",
            "                                                                 \n",
            " dense_21 (Dense)            (None, 128)               6422656   \n",
            "                                                                 \n",
            " dense_22 (Dense)            (None, 256)               33024     \n",
            "                                                                 \n",
            " dense_23 (Dense)            (None, 256)               65792     \n",
            "                                                                 \n",
            " predictions (Dense)         (None, 3)                 771       \n",
            "                                                                 \n",
            "=================================================================\n",
            "Total params: 9,751,107\n",
            "Trainable params: 9,729,219\n",
            "Non-trainable params: 21,888\n",
            "_________________________________________________________________\n"
          ]
        }
      ]
    },
    {
      "cell_type": "code",
      "source": [
        "train_datagen=ImageDataGenerator(preprocessing_function=preprocess_input, validation_split=0.2, horizontal_flip=True, zoom_range=0.2, rescale=1./255, rotation_range=40, width_shift_range=0.2,\n",
        "                                 height_shift_range=0.2, shear_range=0.2, fill_mode='nearest')\n",
        "test_datagen=ImageDataGenerator(preprocessing_function=preprocess_input)\n",
        "\n",
        "train_generator = train_datagen.flow_from_directory(\n",
        "    train_data_yolu,\n",
        "    target_size=(img_width, img_height),\n",
        "    batch_size=batchSize,\n",
        "    subset=\"training\",\n",
        "    class_mode=classMode\n",
        ")\n",
        "validation_generator = train_datagen.flow_from_directory(\n",
        "    train_data_yolu,\n",
        "    target_size=(img_width, img_height),\n",
        "    batch_size=batchSize,\n",
        "    subset=\"validation\",\n",
        "    class_mode=classMode\n",
        ")\n",
        "test_generator = test_datagen.flow_from_directory(\n",
        "    validation_data_yolu,\n",
        "    target_size=(img_width, img_height),\n",
        "    batch_size=batchSize,\n",
        "    class_mode=classMode\n",
        ")"
      ],
      "metadata": {
        "colab": {
          "base_uri": "https://localhost:8080/"
        },
        "id": "lk-JN1CoNIN5",
        "outputId": "0deadf06-958c-4456-dbe6-397314aa97f5"
      },
      "execution_count": 47,
      "outputs": [
        {
          "output_type": "stream",
          "name": "stdout",
          "text": [
            "Found 2400 images belonging to 3 classes.\n",
            "Found 600 images belonging to 3 classes.\n",
            "Found 900 images belonging to 3 classes.\n"
          ]
        }
      ]
    },
    {
      "cell_type": "code",
      "source": [
        "history=model.fit(\n",
        "                  train_generator,\n",
        "                  validation_data=validation_generator,\n",
        "                  steps_per_epoch=2400//batchSize,                      \n",
        "                  validation_steps=600//batchSize,\n",
        "                  batch_size=480,\n",
        "                  epochs=epoch,\n",
        "                  verbose=1\n",
        "  )"
      ],
      "metadata": {
        "colab": {
          "base_uri": "https://localhost:8080/"
        },
        "id": "tI9DskoNMPCi",
        "outputId": "c47ce443-2dc0-41b8-d82e-57f9be1dc635"
      },
      "execution_count": 48,
      "outputs": [
        {
          "output_type": "stream",
          "name": "stdout",
          "text": [
            "Epoch 1/20\n",
            "24/24 [==============================] - 53s 2s/step - loss: 1.3854 - accuracy: 0.8392 - val_loss: 14.4580 - val_accuracy: 0.3333\n",
            "Epoch 2/20\n",
            "24/24 [==============================] - 49s 2s/step - loss: 0.0631 - accuracy: 0.9837 - val_loss: 6.7395 - val_accuracy: 0.3333\n",
            "Epoch 3/20\n",
            "24/24 [==============================] - 49s 2s/step - loss: 0.0103 - accuracy: 0.9962 - val_loss: 2.4917 - val_accuracy: 0.3333\n",
            "Epoch 4/20\n",
            "24/24 [==============================] - 49s 2s/step - loss: 0.0054 - accuracy: 0.9983 - val_loss: 3.9448 - val_accuracy: 0.3333\n",
            "Epoch 5/20\n",
            "24/24 [==============================] - 49s 2s/step - loss: 0.0136 - accuracy: 0.9971 - val_loss: 5.3182 - val_accuracy: 0.3333\n",
            "Epoch 6/20\n",
            "24/24 [==============================] - 49s 2s/step - loss: 0.0206 - accuracy: 0.9958 - val_loss: 4.6464 - val_accuracy: 0.1667\n",
            "Epoch 7/20\n",
            "24/24 [==============================] - 50s 2s/step - loss: 0.0082 - accuracy: 0.9983 - val_loss: 6.3114 - val_accuracy: 0.3333\n",
            "Epoch 8/20\n",
            "24/24 [==============================] - 50s 2s/step - loss: 0.0042 - accuracy: 0.9987 - val_loss: 5.4814 - val_accuracy: 0.3333\n",
            "Epoch 9/20\n",
            "24/24 [==============================] - 50s 2s/step - loss: 0.0060 - accuracy: 0.9992 - val_loss: 3.0193 - val_accuracy: 0.3350\n",
            "Epoch 10/20\n",
            "24/24 [==============================] - 49s 2s/step - loss: 0.0046 - accuracy: 0.9975 - val_loss: 6.7120 - val_accuracy: 0.3333\n",
            "Epoch 11/20\n",
            "24/24 [==============================] - 50s 2s/step - loss: 0.0019 - accuracy: 0.9992 - val_loss: 4.2848 - val_accuracy: 0.3333\n",
            "Epoch 12/20\n",
            "24/24 [==============================] - 49s 2s/step - loss: 0.0044 - accuracy: 0.9992 - val_loss: 0.7684 - val_accuracy: 0.6667\n",
            "Epoch 13/20\n",
            "24/24 [==============================] - 49s 2s/step - loss: 0.0306 - accuracy: 0.9942 - val_loss: 2.0419 - val_accuracy: 0.3700\n",
            "Epoch 14/20\n",
            "24/24 [==============================] - 49s 2s/step - loss: 0.0404 - accuracy: 0.9900 - val_loss: 12.0188 - val_accuracy: 0.3333\n",
            "Epoch 15/20\n",
            "24/24 [==============================] - 49s 2s/step - loss: 0.0110 - accuracy: 0.9958 - val_loss: 11.2926 - val_accuracy: 0.3967\n",
            "Epoch 16/20\n",
            "24/24 [==============================] - 48s 2s/step - loss: 0.0093 - accuracy: 0.9975 - val_loss: 4.2552 - val_accuracy: 0.4083\n",
            "Epoch 17/20\n",
            "24/24 [==============================] - 49s 2s/step - loss: 0.0213 - accuracy: 0.9962 - val_loss: 4.5852 - val_accuracy: 0.3650\n",
            "Epoch 18/20\n",
            "24/24 [==============================] - 48s 2s/step - loss: 0.0298 - accuracy: 0.9908 - val_loss: 2.4749 - val_accuracy: 0.5333\n",
            "Epoch 19/20\n",
            "24/24 [==============================] - 49s 2s/step - loss: 0.0042 - accuracy: 0.9992 - val_loss: 2.4766 - val_accuracy: 0.5117\n",
            "Epoch 20/20\n",
            "24/24 [==============================] - 48s 2s/step - loss: 0.0093 - accuracy: 0.9971 - val_loss: 1.8877 - val_accuracy: 0.7333\n"
          ]
        }
      ]
    },
    {
      "cell_type": "code",
      "source": [
        "from keras.preprocessing.image import load_img\n",
        "from keras.preprocessing.image import img_to_array\n",
        "\n",
        "img = load_img('kekik.jpg', grayscale=False, color_mode='rgb', target_size=(img_width, img_height))\n",
        "image = img_to_array(img)\n",
        "image = image.reshape((1, image.shape[0], image.shape[1], image.shape[2]))\n",
        "image = preprocess_input(image)\n",
        "\n",
        "yhat = model.predict(image)\n",
        "print(yhat)\n"
      ],
      "metadata": {
        "colab": {
          "base_uri": "https://localhost:8080/"
        },
        "id": "WkTzhPp1k9KG",
        "outputId": "2467f64a-2004-4cec-b74b-645a7292d95c"
      },
      "execution_count": 53,
      "outputs": [
        {
          "output_type": "stream",
          "name": "stdout",
          "text": [
            "[[7.3246253e-14 5.1570006e-13 1.0000000e+00]]\n"
          ]
        }
      ]
    },
    {
      "cell_type": "code",
      "source": [
        "model.save(\"MobileNet73.h5\")"
      ],
      "metadata": {
        "id": "TfjDbu6Zky3_"
      },
      "execution_count": 54,
      "outputs": []
    }
  ]
}