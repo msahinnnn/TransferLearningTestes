{
  "nbformat": 4,
  "nbformat_minor": 0,
  "metadata": {
    "colab": {
      "name": "MobileNet.ipynb",
      "provenance": [],
      "collapsed_sections": []
    },
    "kernelspec": {
      "name": "python3",
      "display_name": "Python 3"
    },
    "language_info": {
      "name": "python"
    },
    "accelerator": "GPU"
  },
  "cells": [
    {
      "cell_type": "code",
      "execution_count": 64,
      "metadata": {
        "colab": {
          "base_uri": "https://localhost:8080/"
        },
        "id": "RJtzgZ0dJ80f",
        "outputId": "109cc857-226e-4c11-ff5c-374e89133b80"
      },
      "outputs": [
        {
          "output_type": "stream",
          "name": "stdout",
          "text": [
            "Drive already mounted at /content/gdrive; to attempt to forcibly remount, call drive.mount(\"/content/gdrive\", force_remount=True).\n"
          ]
        }
      ],
      "source": [
        "from google.colab import drive\n",
        "drive.mount('/content/gdrive')"
      ]
    },
    {
      "cell_type": "code",
      "source": [
        "%cd gdrive/My Drive/Colab Notebooks/DerinOgrenme/\n",
        "%ls"
      ],
      "metadata": {
        "colab": {
          "base_uri": "https://localhost:8080/"
        },
        "id": "q6WFcZo0KGcu",
        "outputId": "607125dd-b4dd-421c-8a95-926e746e26a1"
      },
      "execution_count": 65,
      "outputs": [
        {
          "output_type": "stream",
          "name": "stdout",
          "text": [
            "[Errno 2] No such file or directory: 'gdrive/My Drive/Colab Notebooks/DerinOgrenme/'\n",
            "/content/gdrive/My Drive/Colab Notebooks/DerinOgrenme\n",
            "deneme.jpg  MobileNet61.h5  \u001b[0m\u001b[01;34mtest\u001b[0m/       VGG19_1.h5  VGG19_3.h5  VGG19_5.h5\n",
            "kekik.jpg   MobileNet73.h5  VGG16_1.h5  VGG19_2.h5  VGG19_4.h5\n"
          ]
        }
      ]
    },
    {
      "cell_type": "code",
      "source": [
        "\n",
        "from tensorflow.keras.layers import Input\n",
        "from tensorflow.keras.models import Model\n",
        "from keras.preprocessing.image import ImageDataGenerator\n",
        "from keras.models import Sequential, Model\n",
        "from keras.layers import Conv2D, MaxPooling2D\n",
        "from keras.layers import Activation, Dropout, Flatten, Dense, BatchNormalization\n",
        "from keras import backend as K\n",
        "from PIL import Image\n",
        "import numpy as np \n",
        "import pandas as pd \n",
        "import keras\n",
        "import matplotlib.pyplot as plt\n",
        "from keras.layers import Dense,GlobalAveragePooling2D\n",
        "from keras.preprocessing import image\n",
        "from keras.applications.mobilenet import preprocess_input\n",
        "from keras.preprocessing.image import ImageDataGenerator\n",
        "from tensorflow.keras.applications import MobileNet\n",
        "\n",
        "\n",
        "\n",
        "\n",
        "img_width, img_height = 224, 224\n",
        "\n",
        "imageChannels = 3\n",
        "batchSize = 100\n",
        "epoch = 20\n",
        "classMode = 'categorical'\n",
        "fcDense = 3\n",
        "fcActivation = 'softmax' #son katman\n",
        "optimizer = 'adam'\n",
        "loss = 'binary_crossentropy'\n",
        "metrics = 'accuracy'\n",
        "train_ornek_sayisi = 3000\n",
        "validation_ornek_sayisi = 900 \n",
        "\n",
        "\n",
        "train_data_yolu = 'test/train'\n",
        "validation_data_yolu = 'test/validation'\n",
        "\n",
        "\n",
        "if K.image_data_format() == 'channels_first':\n",
        "    input_shape = (3, img_width, img_height)\n",
        "else:\n",
        "    input_shape = (img_width, img_height, 3)"
      ],
      "metadata": {
        "id": "TWk-L9klKICI"
      },
      "execution_count": 66,
      "outputs": []
    },
    {
      "cell_type": "code",
      "source": [
        "input = Input(input_shape)\n",
        "\n",
        "model = MobileNet( weights='imagenet',\n",
        "                  include_top=False,\n",
        "                  input_shape=input_shape,\n",
        "                  input_tensor=input\n",
        "                  )"
      ],
      "metadata": {
        "id": "kfj8rT_MKeo4"
      },
      "execution_count": 67,
      "outputs": []
    },
    {
      "cell_type": "code",
      "source": [
        "flat1 = Flatten()(model.layers[-1].output)\n",
        "\n",
        "class1=Dense(512,activation='relu')(flat1)\n",
        "class2=Dense(1024,activation='relu')(class1) \n",
        "class3=Dense(1024,activation='relu')(class2) \n",
        "\n",
        "\n",
        "output=Dense(3,activation='softmax', name='predictions')(class3) "
      ],
      "metadata": {
        "id": "UOdP1dWNL7gw"
      },
      "execution_count": 68,
      "outputs": []
    },
    {
      "cell_type": "code",
      "source": [
        "model=Model(inputs=model.inputs,outputs=output)\n",
        "\n",
        "model.compile(\n",
        "    optimizer='adam',\n",
        "    loss='categorical_crossentropy',\n",
        "    metrics=['accuracy'])\n",
        "\n",
        "\n",
        "model.summary()"
      ],
      "metadata": {
        "colab": {
          "base_uri": "https://localhost:8080/"
        },
        "id": "hVT2ekudMI6e",
        "outputId": "a94917ec-1512-4a36-ffd2-44dd97f24ec2"
      },
      "execution_count": 69,
      "outputs": [
        {
          "output_type": "stream",
          "name": "stdout",
          "text": [
            "Model: \"model_5\"\n",
            "_________________________________________________________________\n",
            " Layer (type)                Output Shape              Param #   \n",
            "=================================================================\n",
            " input_7 (InputLayer)        [(None, 224, 224, 3)]     0         \n",
            "                                                                 \n",
            " conv1 (Conv2D)              (None, 112, 112, 32)      864       \n",
            "                                                                 \n",
            " conv1_bn (BatchNormalizatio  (None, 112, 112, 32)     128       \n",
            " n)                                                              \n",
            "                                                                 \n",
            " conv1_relu (ReLU)           (None, 112, 112, 32)      0         \n",
            "                                                                 \n",
            " conv_dw_1 (DepthwiseConv2D)  (None, 112, 112, 32)     288       \n",
            "                                                                 \n",
            " conv_dw_1_bn (BatchNormaliz  (None, 112, 112, 32)     128       \n",
            " ation)                                                          \n",
            "                                                                 \n",
            " conv_dw_1_relu (ReLU)       (None, 112, 112, 32)      0         \n",
            "                                                                 \n",
            " conv_pw_1 (Conv2D)          (None, 112, 112, 64)      2048      \n",
            "                                                                 \n",
            " conv_pw_1_bn (BatchNormaliz  (None, 112, 112, 64)     256       \n",
            " ation)                                                          \n",
            "                                                                 \n",
            " conv_pw_1_relu (ReLU)       (None, 112, 112, 64)      0         \n",
            "                                                                 \n",
            " conv_pad_2 (ZeroPadding2D)  (None, 113, 113, 64)      0         \n",
            "                                                                 \n",
            " conv_dw_2 (DepthwiseConv2D)  (None, 56, 56, 64)       576       \n",
            "                                                                 \n",
            " conv_dw_2_bn (BatchNormaliz  (None, 56, 56, 64)       256       \n",
            " ation)                                                          \n",
            "                                                                 \n",
            " conv_dw_2_relu (ReLU)       (None, 56, 56, 64)        0         \n",
            "                                                                 \n",
            " conv_pw_2 (Conv2D)          (None, 56, 56, 128)       8192      \n",
            "                                                                 \n",
            " conv_pw_2_bn (BatchNormaliz  (None, 56, 56, 128)      512       \n",
            " ation)                                                          \n",
            "                                                                 \n",
            " conv_pw_2_relu (ReLU)       (None, 56, 56, 128)       0         \n",
            "                                                                 \n",
            " conv_dw_3 (DepthwiseConv2D)  (None, 56, 56, 128)      1152      \n",
            "                                                                 \n",
            " conv_dw_3_bn (BatchNormaliz  (None, 56, 56, 128)      512       \n",
            " ation)                                                          \n",
            "                                                                 \n",
            " conv_dw_3_relu (ReLU)       (None, 56, 56, 128)       0         \n",
            "                                                                 \n",
            " conv_pw_3 (Conv2D)          (None, 56, 56, 128)       16384     \n",
            "                                                                 \n",
            " conv_pw_3_bn (BatchNormaliz  (None, 56, 56, 128)      512       \n",
            " ation)                                                          \n",
            "                                                                 \n",
            " conv_pw_3_relu (ReLU)       (None, 56, 56, 128)       0         \n",
            "                                                                 \n",
            " conv_pad_4 (ZeroPadding2D)  (None, 57, 57, 128)       0         \n",
            "                                                                 \n",
            " conv_dw_4 (DepthwiseConv2D)  (None, 28, 28, 128)      1152      \n",
            "                                                                 \n",
            " conv_dw_4_bn (BatchNormaliz  (None, 28, 28, 128)      512       \n",
            " ation)                                                          \n",
            "                                                                 \n",
            " conv_dw_4_relu (ReLU)       (None, 28, 28, 128)       0         \n",
            "                                                                 \n",
            " conv_pw_4 (Conv2D)          (None, 28, 28, 256)       32768     \n",
            "                                                                 \n",
            " conv_pw_4_bn (BatchNormaliz  (None, 28, 28, 256)      1024      \n",
            " ation)                                                          \n",
            "                                                                 \n",
            " conv_pw_4_relu (ReLU)       (None, 28, 28, 256)       0         \n",
            "                                                                 \n",
            " conv_dw_5 (DepthwiseConv2D)  (None, 28, 28, 256)      2304      \n",
            "                                                                 \n",
            " conv_dw_5_bn (BatchNormaliz  (None, 28, 28, 256)      1024      \n",
            " ation)                                                          \n",
            "                                                                 \n",
            " conv_dw_5_relu (ReLU)       (None, 28, 28, 256)       0         \n",
            "                                                                 \n",
            " conv_pw_5 (Conv2D)          (None, 28, 28, 256)       65536     \n",
            "                                                                 \n",
            " conv_pw_5_bn (BatchNormaliz  (None, 28, 28, 256)      1024      \n",
            " ation)                                                          \n",
            "                                                                 \n",
            " conv_pw_5_relu (ReLU)       (None, 28, 28, 256)       0         \n",
            "                                                                 \n",
            " conv_pad_6 (ZeroPadding2D)  (None, 29, 29, 256)       0         \n",
            "                                                                 \n",
            " conv_dw_6 (DepthwiseConv2D)  (None, 14, 14, 256)      2304      \n",
            "                                                                 \n",
            " conv_dw_6_bn (BatchNormaliz  (None, 14, 14, 256)      1024      \n",
            " ation)                                                          \n",
            "                                                                 \n",
            " conv_dw_6_relu (ReLU)       (None, 14, 14, 256)       0         \n",
            "                                                                 \n",
            " conv_pw_6 (Conv2D)          (None, 14, 14, 512)       131072    \n",
            "                                                                 \n",
            " conv_pw_6_bn (BatchNormaliz  (None, 14, 14, 512)      2048      \n",
            " ation)                                                          \n",
            "                                                                 \n",
            " conv_pw_6_relu (ReLU)       (None, 14, 14, 512)       0         \n",
            "                                                                 \n",
            " conv_dw_7 (DepthwiseConv2D)  (None, 14, 14, 512)      4608      \n",
            "                                                                 \n",
            " conv_dw_7_bn (BatchNormaliz  (None, 14, 14, 512)      2048      \n",
            " ation)                                                          \n",
            "                                                                 \n",
            " conv_dw_7_relu (ReLU)       (None, 14, 14, 512)       0         \n",
            "                                                                 \n",
            " conv_pw_7 (Conv2D)          (None, 14, 14, 512)       262144    \n",
            "                                                                 \n",
            " conv_pw_7_bn (BatchNormaliz  (None, 14, 14, 512)      2048      \n",
            " ation)                                                          \n",
            "                                                                 \n",
            " conv_pw_7_relu (ReLU)       (None, 14, 14, 512)       0         \n",
            "                                                                 \n",
            " conv_dw_8 (DepthwiseConv2D)  (None, 14, 14, 512)      4608      \n",
            "                                                                 \n",
            " conv_dw_8_bn (BatchNormaliz  (None, 14, 14, 512)      2048      \n",
            " ation)                                                          \n",
            "                                                                 \n",
            " conv_dw_8_relu (ReLU)       (None, 14, 14, 512)       0         \n",
            "                                                                 \n",
            " conv_pw_8 (Conv2D)          (None, 14, 14, 512)       262144    \n",
            "                                                                 \n",
            " conv_pw_8_bn (BatchNormaliz  (None, 14, 14, 512)      2048      \n",
            " ation)                                                          \n",
            "                                                                 \n",
            " conv_pw_8_relu (ReLU)       (None, 14, 14, 512)       0         \n",
            "                                                                 \n",
            " conv_dw_9 (DepthwiseConv2D)  (None, 14, 14, 512)      4608      \n",
            "                                                                 \n",
            " conv_dw_9_bn (BatchNormaliz  (None, 14, 14, 512)      2048      \n",
            " ation)                                                          \n",
            "                                                                 \n",
            " conv_dw_9_relu (ReLU)       (None, 14, 14, 512)       0         \n",
            "                                                                 \n",
            " conv_pw_9 (Conv2D)          (None, 14, 14, 512)       262144    \n",
            "                                                                 \n",
            " conv_pw_9_bn (BatchNormaliz  (None, 14, 14, 512)      2048      \n",
            " ation)                                                          \n",
            "                                                                 \n",
            " conv_pw_9_relu (ReLU)       (None, 14, 14, 512)       0         \n",
            "                                                                 \n",
            " conv_dw_10 (DepthwiseConv2D  (None, 14, 14, 512)      4608      \n",
            " )                                                               \n",
            "                                                                 \n",
            " conv_dw_10_bn (BatchNormali  (None, 14, 14, 512)      2048      \n",
            " zation)                                                         \n",
            "                                                                 \n",
            " conv_dw_10_relu (ReLU)      (None, 14, 14, 512)       0         \n",
            "                                                                 \n",
            " conv_pw_10 (Conv2D)         (None, 14, 14, 512)       262144    \n",
            "                                                                 \n",
            " conv_pw_10_bn (BatchNormali  (None, 14, 14, 512)      2048      \n",
            " zation)                                                         \n",
            "                                                                 \n",
            " conv_pw_10_relu (ReLU)      (None, 14, 14, 512)       0         \n",
            "                                                                 \n",
            " conv_dw_11 (DepthwiseConv2D  (None, 14, 14, 512)      4608      \n",
            " )                                                               \n",
            "                                                                 \n",
            " conv_dw_11_bn (BatchNormali  (None, 14, 14, 512)      2048      \n",
            " zation)                                                         \n",
            "                                                                 \n",
            " conv_dw_11_relu (ReLU)      (None, 14, 14, 512)       0         \n",
            "                                                                 \n",
            " conv_pw_11 (Conv2D)         (None, 14, 14, 512)       262144    \n",
            "                                                                 \n",
            " conv_pw_11_bn (BatchNormali  (None, 14, 14, 512)      2048      \n",
            " zation)                                                         \n",
            "                                                                 \n",
            " conv_pw_11_relu (ReLU)      (None, 14, 14, 512)       0         \n",
            "                                                                 \n",
            " conv_pad_12 (ZeroPadding2D)  (None, 15, 15, 512)      0         \n",
            "                                                                 \n",
            " conv_dw_12 (DepthwiseConv2D  (None, 7, 7, 512)        4608      \n",
            " )                                                               \n",
            "                                                                 \n",
            " conv_dw_12_bn (BatchNormali  (None, 7, 7, 512)        2048      \n",
            " zation)                                                         \n",
            "                                                                 \n",
            " conv_dw_12_relu (ReLU)      (None, 7, 7, 512)         0         \n",
            "                                                                 \n",
            " conv_pw_12 (Conv2D)         (None, 7, 7, 1024)        524288    \n",
            "                                                                 \n",
            " conv_pw_12_bn (BatchNormali  (None, 7, 7, 1024)       4096      \n",
            " zation)                                                         \n",
            "                                                                 \n",
            " conv_pw_12_relu (ReLU)      (None, 7, 7, 1024)        0         \n",
            "                                                                 \n",
            " conv_dw_13 (DepthwiseConv2D  (None, 7, 7, 1024)       9216      \n",
            " )                                                               \n",
            "                                                                 \n",
            " conv_dw_13_bn (BatchNormali  (None, 7, 7, 1024)       4096      \n",
            " zation)                                                         \n",
            "                                                                 \n",
            " conv_dw_13_relu (ReLU)      (None, 7, 7, 1024)        0         \n",
            "                                                                 \n",
            " conv_pw_13 (Conv2D)         (None, 7, 7, 1024)        1048576   \n",
            "                                                                 \n",
            " conv_pw_13_bn (BatchNormali  (None, 7, 7, 1024)       4096      \n",
            " zation)                                                         \n",
            "                                                                 \n",
            " conv_pw_13_relu (ReLU)      (None, 7, 7, 1024)        0         \n",
            "                                                                 \n",
            " flatten_10 (Flatten)        (None, 50176)             0         \n",
            "                                                                 \n",
            " dense_26 (Dense)            (None, 512)               25690624  \n",
            "                                                                 \n",
            " dense_27 (Dense)            (None, 1024)              525312    \n",
            "                                                                 \n",
            " dense_28 (Dense)            (None, 1024)              1049600   \n",
            "                                                                 \n",
            " predictions (Dense)         (None, 3)                 3075      \n",
            "                                                                 \n",
            "=================================================================\n",
            "Total params: 30,497,475\n",
            "Trainable params: 30,475,587\n",
            "Non-trainable params: 21,888\n",
            "_________________________________________________________________\n"
          ]
        }
      ]
    },
    {
      "cell_type": "code",
      "source": [
        "train_datagen=ImageDataGenerator(preprocessing_function=preprocess_input, validation_split=0.2, horizontal_flip=True, zoom_range=0.2, rescale=1./255, rotation_range=40, width_shift_range=0.2,\n",
        "                                 height_shift_range=0.2, shear_range=0.2, fill_mode='nearest')\n",
        "test_datagen=ImageDataGenerator(preprocessing_function=preprocess_input)\n",
        "\n",
        "train_generator = train_datagen.flow_from_directory(\n",
        "    train_data_yolu,\n",
        "    target_size=(img_width, img_height),\n",
        "    batch_size=batchSize,\n",
        "    subset=\"training\",\n",
        "    class_mode=classMode\n",
        ")\n",
        "validation_generator = train_datagen.flow_from_directory(\n",
        "    train_data_yolu,\n",
        "    target_size=(img_width, img_height),\n",
        "    batch_size=batchSize,\n",
        "    subset=\"validation\",\n",
        "    class_mode=classMode\n",
        ")\n",
        "test_generator = test_datagen.flow_from_directory(\n",
        "    validation_data_yolu,\n",
        "    target_size=(img_width, img_height),\n",
        "    batch_size=batchSize,\n",
        "    class_mode=classMode\n",
        ")"
      ],
      "metadata": {
        "colab": {
          "base_uri": "https://localhost:8080/"
        },
        "id": "lk-JN1CoNIN5",
        "outputId": "a2798685-bc83-4f37-dc60-bb928a786a34"
      },
      "execution_count": 70,
      "outputs": [
        {
          "output_type": "stream",
          "name": "stdout",
          "text": [
            "Found 2400 images belonging to 3 classes.\n",
            "Found 600 images belonging to 3 classes.\n",
            "Found 900 images belonging to 3 classes.\n"
          ]
        }
      ]
    },
    {
      "cell_type": "code",
      "source": [
        "history=model.fit(\n",
        "                  train_generator,\n",
        "                  validation_data=validation_generator,\n",
        "                  steps_per_epoch=2400//batchSize,                      \n",
        "                  validation_steps=600//batchSize,\n",
        "                  batch_size=480,\n",
        "                  epochs=epoch,\n",
        "                  verbose=1\n",
        "  )"
      ],
      "metadata": {
        "colab": {
          "base_uri": "https://localhost:8080/"
        },
        "id": "tI9DskoNMPCi",
        "outputId": "756747d6-68c5-4ecc-f6c7-511adaf96f94"
      },
      "execution_count": 71,
      "outputs": [
        {
          "output_type": "stream",
          "name": "stdout",
          "text": [
            "Epoch 1/20\n",
            "24/24 [==============================] - 54s 2s/step - loss: 6.9462 - accuracy: 0.7679 - val_loss: 3.3523 - val_accuracy: 0.3333\n",
            "Epoch 2/20\n",
            "24/24 [==============================] - 48s 2s/step - loss: 0.0561 - accuracy: 0.9871 - val_loss: 5.3461 - val_accuracy: 0.3333\n",
            "Epoch 3/20\n",
            "24/24 [==============================] - 48s 2s/step - loss: 0.0319 - accuracy: 0.9925 - val_loss: 1.4962 - val_accuracy: 0.3333\n",
            "Epoch 4/20\n",
            "24/24 [==============================] - 49s 2s/step - loss: 0.0099 - accuracy: 0.9971 - val_loss: 1.2952 - val_accuracy: 0.3333\n",
            "Epoch 5/20\n",
            "24/24 [==============================] - 48s 2s/step - loss: 0.0168 - accuracy: 0.9958 - val_loss: 4.2889 - val_accuracy: 0.3333\n",
            "Epoch 6/20\n",
            "24/24 [==============================] - 48s 2s/step - loss: 0.0080 - accuracy: 0.9967 - val_loss: 3.9427 - val_accuracy: 0.3333\n",
            "Epoch 7/20\n",
            "24/24 [==============================] - 49s 2s/step - loss: 0.0031 - accuracy: 0.9987 - val_loss: 3.2047 - val_accuracy: 0.3333\n",
            "Epoch 8/20\n",
            "24/24 [==============================] - 48s 2s/step - loss: 0.0857 - accuracy: 0.9842 - val_loss: 4.9718 - val_accuracy: 0.3350\n",
            "Epoch 9/20\n",
            "24/24 [==============================] - 49s 2s/step - loss: 0.0395 - accuracy: 0.9900 - val_loss: 14.7583 - val_accuracy: 0.3333\n",
            "Epoch 10/20\n",
            "24/24 [==============================] - 48s 2s/step - loss: 0.0105 - accuracy: 0.9954 - val_loss: 11.2785 - val_accuracy: 0.3333\n",
            "Epoch 11/20\n",
            "24/24 [==============================] - 49s 2s/step - loss: 0.0119 - accuracy: 0.9971 - val_loss: 9.9651 - val_accuracy: 0.3333\n",
            "Epoch 12/20\n",
            "24/24 [==============================] - 48s 2s/step - loss: 0.0059 - accuracy: 0.9992 - val_loss: 1.8718 - val_accuracy: 0.5117\n",
            "Epoch 13/20\n",
            "24/24 [==============================] - 49s 2s/step - loss: 0.0066 - accuracy: 0.9987 - val_loss: 5.0187 - val_accuracy: 0.4233\n",
            "Epoch 14/20\n",
            "24/24 [==============================] - 49s 2s/step - loss: 0.0100 - accuracy: 0.9975 - val_loss: 10.9792 - val_accuracy: 0.3333\n",
            "Epoch 15/20\n",
            "24/24 [==============================] - 49s 2s/step - loss: 0.0153 - accuracy: 0.9954 - val_loss: 3.8313 - val_accuracy: 0.4850\n",
            "Epoch 16/20\n",
            "24/24 [==============================] - 49s 2s/step - loss: 3.1236e-04 - accuracy: 1.0000 - val_loss: 2.9879 - val_accuracy: 0.6033\n",
            "Epoch 17/20\n",
            "24/24 [==============================] - 49s 2s/step - loss: 0.0074 - accuracy: 0.9992 - val_loss: 2.4937 - val_accuracy: 0.6400\n",
            "Epoch 18/20\n",
            "24/24 [==============================] - 49s 2s/step - loss: 0.0092 - accuracy: 0.9979 - val_loss: 6.8096 - val_accuracy: 0.5600\n",
            "Epoch 19/20\n",
            "24/24 [==============================] - 49s 2s/step - loss: 8.7319e-04 - accuracy: 1.0000 - val_loss: 6.9941 - val_accuracy: 0.6517\n",
            "Epoch 20/20\n",
            "24/24 [==============================] - 49s 2s/step - loss: 0.0041 - accuracy: 0.9987 - val_loss: 4.5486 - val_accuracy: 0.6533\n"
          ]
        }
      ]
    },
    {
      "cell_type": "code",
      "source": [
        "from keras.preprocessing.image import load_img\n",
        "from keras.preprocessing.image import img_to_array\n",
        "\n",
        "img = load_img('kekik.jpg', grayscale=False, color_mode='rgb', target_size=(img_width, img_height))\n",
        "image = img_to_array(img)\n",
        "image = image.reshape((1, image.shape[0], image.shape[1], image.shape[2]))\n",
        "image = preprocess_input(image)\n",
        "\n",
        "yhat = model.predict(image)\n",
        "print(yhat)\n"
      ],
      "metadata": {
        "colab": {
          "base_uri": "https://localhost:8080/"
        },
        "id": "WkTzhPp1k9KG",
        "outputId": "977fd155-0b71-4779-c72c-0d774e67684d"
      },
      "execution_count": 75,
      "outputs": [
        {
          "output_type": "stream",
          "name": "stdout",
          "text": [
            "[[0.83624953 0.08201005 0.08174043]]\n"
          ]
        }
      ]
    },
    {
      "cell_type": "code",
      "source": [
        "model.save(\"MobileNet65.h5\")"
      ],
      "metadata": {
        "id": "TfjDbu6Zky3_"
      },
      "execution_count": 76,
      "outputs": []
    }
  ]
}